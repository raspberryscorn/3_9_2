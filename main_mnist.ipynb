{
  "nbformat": 4,
  "nbformat_minor": 0,
  "metadata": {
    "colab": {
      "provenance": [],
      "mount_file_id": "1YKkZEWjyiBFXCJVuY3FBP_jovc4QjYT2",
      "authorship_tag": "ABX9TyM0o/cMxLMS4iJjvUXi74Oo",
      "include_colab_link": true
    },
    "kernelspec": {
      "name": "python3",
      "display_name": "Python 3"
    },
    "language_info": {
      "name": "python"
    }
  },
  "cells": [
    {
      "cell_type": "markdown",
      "metadata": {
        "id": "view-in-github",
        "colab_type": "text"
      },
      "source": [
        "<a href=\"https://colab.research.google.com/github/raspberryscorn/3_9_2/blob/main/main_mnist.ipynb\" target=\"_parent\"><img src=\"https://colab.research.google.com/assets/colab-badge.svg\" alt=\"Open In Colab\"/></a>"
      ]
    },
    {
      "cell_type": "code",
      "execution_count": null,
      "metadata": {
        "id": "LI7fKzebbdM7"
      },
      "outputs": [],
      "source": [
        "cd \"/content/drive/MyDrive/ddeep/bhban_ai/SECTION_3/Chapter_9/3_9_2/01_MNIST\""
      ]
    },
    {
      "cell_type": "code",
      "source": [
        "\"\"\"\n",
        "Author : Byunghyun Ban\n",
        "Date : 2020.07.24.\n",
        "\"\"\"\n",
        "import data_reader\n",
        "import gan\n",
        "\n",
        "# 몇 에포크 만큼 학습을 시킬 것인지 결정합니다.\n",
        "EPOCHS = 100  # 예제 기본값은 100입니다.\n",
        "\n",
        "# 데이터를 읽어옵니다.\n",
        "dr = data_reader.DataReader()\n",
        "\n",
        "# GAN을 불러옵니다.\n",
        "# Generator\n",
        "generator = gan.make_generator()\n",
        "# Discriminator\n",
        "discriminator = gan.make_discriminator()\n",
        "\n",
        "# 인공신경망을 학습시킵니다.\n",
        "print(\"\\n\\n************ TRAINING START ************ \")\n",
        "gan.train(generator, discriminator, dr.train_dataset, EPOCHS)\n",
        "\n",
        "# GIF 애니메이션을 저장합니다.\n",
        "gan.gif_generation()\n"
      ],
      "metadata": {
        "id": "q4U6Dnsobvnj"
      },
      "execution_count": null,
      "outputs": []
    }
  ]
}