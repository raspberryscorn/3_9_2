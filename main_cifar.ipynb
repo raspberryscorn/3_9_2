{
  "nbformat": 4,
  "nbformat_minor": 0,
  "metadata": {
    "colab": {
      "provenance": [],
      "mount_file_id": "1PJYCz1GJcyzU1Thh9iUxO8Rzw7T2Tmzw",
      "authorship_tag": "ABX9TyPH5pNDUk32/gXjZwQ4h+NF",
      "include_colab_link": true
    },
    "kernelspec": {
      "name": "python3",
      "display_name": "Python 3"
    },
    "language_info": {
      "name": "python"
    }
  },
  "cells": [
    {
      "cell_type": "markdown",
      "metadata": {
        "id": "view-in-github",
        "colab_type": "text"
      },
      "source": [
        "<a href=\"https://colab.research.google.com/github/raspberryscorn/3_9_2/blob/main/main_cifar.ipynb\" target=\"_parent\"><img src=\"https://colab.research.google.com/assets/colab-badge.svg\" alt=\"Open In Colab\"/></a>"
      ]
    },
    {
      "cell_type": "code",
      "execution_count": null,
      "metadata": {
        "id": "lkaOG4K-fVfE"
      },
      "outputs": [],
      "source": [
        "cd \"/content/drive/MyDrive/ddeep/bhban_ai/SECTION_3/Chapter_9/3_9_2/03_CIFAR10\""
      ]
    },
    {
      "cell_type": "code",
      "source": [
        "\"\"\"\n",
        "Author : Byunghyun Ban\n",
        "Date : 2020.07.24.\n",
        "\"\"\"\n",
        "import data_reader\n",
        "import gan\n",
        "\n",
        "# 몇 에포크 만큼 학습을 시킬 것인지 결정합니다.\n",
        "EPOCHS = 200  # 예제 기본값은 200입니다.\n",
        "\n",
        "# 데이터를 읽어옵니다.\n",
        "dr = data_reader.DataReader()\n",
        "\n",
        "# GAN을 불러옵니다.\n",
        "# Generator\n",
        "generator = gan.make_generator()\n",
        "# Discriminator\n",
        "discriminator = gan.make_discriminator()\n",
        "\n",
        "# 인공신경망을 학습시킵니다.\n",
        "print(\"\\n\\n************ TRAINING START ************ \")\n",
        "gan.train(generator, discriminator, dr.train_dataset, EPOCHS)\n",
        "\n",
        "# GIF 애니메이션을 저장합니다.\n",
        "gan.gif_generation()\n"
      ],
      "metadata": {
        "id": "AOR__dOKfh9y"
      },
      "execution_count": null,
      "outputs": []
    }
  ]
}