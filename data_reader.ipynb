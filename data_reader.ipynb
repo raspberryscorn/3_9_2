{
  "nbformat": 4,
  "nbformat_minor": 0,
  "metadata": {
    "colab": {
      "provenance": [],
      "mount_file_id": "1Qc6T_zV3xpU2jFHfCElnWUVVIjy_RYdr",
      "authorship_tag": "ABX9TyPgpT1ryRwmnfuU/eimcxtL",
      "include_colab_link": true
    },
    "kernelspec": {
      "name": "python3",
      "display_name": "Python 3"
    },
    "language_info": {
      "name": "python"
    }
  },
  "cells": [
    {
      "cell_type": "markdown",
      "metadata": {
        "id": "view-in-github",
        "colab_type": "text"
      },
      "source": [
        "<a href=\"https://colab.research.google.com/github/raspberryscorn/3_9_2/blob/main/data_reader.ipynb\" target=\"_parent\"><img src=\"https://colab.research.google.com/assets/colab-badge.svg\" alt=\"Open In Colab\"/></a>"
      ]
    },
    {
      "cell_type": "code",
      "execution_count": null,
      "metadata": {
        "id": "G9HMtk6UXAOy"
      },
      "outputs": [],
      "source": [
        "cd \"/content/drive/MyDrive/ddeep/bhban_ai/SECTION_3/Chapter_9/3_9_1/01_MNIST\""
      ]
    },
    {
      "cell_type": "code",
      "source": [
        "\"\"\"\n",
        "Author : Byunghyun Ban\n",
        "Date : 2020.07.17.\n",
        "This code uses DCGAN sample codes from Tensorflow.org\n",
        "which has Apache 2.0 License.\n",
        "\"\"\"\n",
        "import os\n",
        "os.environ['TF_CPP_MIN_LOG_LEVEL'] = '3'\n",
        "from tensorflow import keras\n",
        "import tensorflow as tf\n",
        "import time\n",
        "\n",
        "try:\n",
        "    import imageio\n",
        "except ModuleNotFoundError:\n",
        "    import pip\n",
        "    pip.main(['install', 'imageio'])\n",
        "    try:\n",
        "        import imageio\n",
        "    except ModuleNotFoundError:\n",
        "        time.sleep(2)\n",
        "        import imageio\n",
        "\n",
        "try:\n",
        "    from matplotlib import pyplot as plt\n",
        "except ModuleNotFoundError:\n",
        "    import pip\n",
        "    pip.main(['install', 'matplotlib'])\n",
        "    try:\n",
        "        from matplotlib import pyplot as plt\n",
        "    except ModuleNotFoundError:\n",
        "        time.sleep(2)\n",
        "        from matplotlib import pyplot as plt\n",
        "\n",
        "try:\n",
        "    import numpy as np\n",
        "except ModuleNotFoundError:\n",
        "    import pip\n",
        "    pip.main(['install', 'numpy'])\n",
        "    try:\n",
        "        import numpy as np\n",
        "    except ModuleNotFoundError:\n",
        "        time.sleep(2)\n",
        "        import numpy as np\n",
        "\n",
        "try:\n",
        "    from PIL import Image\n",
        "\n",
        "except ModuleNotFoundError:\n",
        "    import pip\n",
        "    pip.main(['install', 'pillow'])\n",
        "    try:\n",
        "        from PIL import Image\n",
        "    except ModuleNotFoundError:\n",
        "        time.sleep(2)\n",
        "        from PIL import Image\n",
        "\n",
        "\n",
        "# 데이터를 떠먹여 줄 클래스를 제작합니다.\n",
        "class DataReader():\n",
        "    def __init__(self):\n",
        "        (self.train_X, _), (_, _) = keras.datasets.mnist.load_data()\n",
        "        self.train_X = self.preprocess(self.train_X)\n",
        "        self.train_dataset = tf.data.Dataset.from_tensor_slices(self.train_X).shuffle(60000).batch(256)\n",
        "\n",
        "    def preprocess(self, images):\n",
        "        images = images.reshape(images.shape[0], 28, 28, 1).astype('float32')\n",
        "        images = images / 127.5 - 1\n",
        "        return images\n",
        "\n",
        "    def show_processed_images(self):\n",
        "        plt.figure(figsize=(10, 10))\n",
        "        for i in range(25):\n",
        "            plt.subplot(5, 5, i + 1)\n",
        "            plt.xticks([])\n",
        "            plt.yticks([])\n",
        "            plt.grid(False)\n",
        "            plt.imshow(self.train_X[i])\n",
        "        plt.show()\n"
      ],
      "metadata": {
        "id": "OURuDSoiXco8"
      },
      "execution_count": null,
      "outputs": []
    }
  ]
}